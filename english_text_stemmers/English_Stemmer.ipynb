{
 "cells": [
  {
   "cell_type": "code",
   "execution_count": 1,
   "id": "7d8e0bcd",
   "metadata": {},
   "outputs": [],
   "source": [
    "import nltk\n",
    "from nltk.corpus import stopwords\n",
    "from nltk.tokenize import word_tokenize\n"
   ]
  },
  {
   "cell_type": "code",
   "execution_count": 2,
   "id": "e02d6353",
   "metadata": {},
   "outputs": [],
   "source": [
    " sno = nltk.stem.SnowballStemmer('english')"
   ]
  },
  {
   "cell_type": "code",
   "execution_count": 3,
   "id": "2c5d8460",
   "metadata": {},
   "outputs": [
    {
     "data": {
      "text/plain": [
       "'was'"
      ]
     },
     "execution_count": 3,
     "metadata": {},
     "output_type": "execute_result"
    }
   ],
   "source": [
    "sno.stem('Was')"
   ]
  },
  {
   "cell_type": "code",
   "execution_count": 4,
   "id": "3b0f542c",
   "metadata": {},
   "outputs": [],
   "source": [
    "example_sent = \"This is a sample sentence, showing off the stop words filtration.\""
   ]
  },
  {
   "cell_type": "code",
   "execution_count": 5,
   "id": "19a58127",
   "metadata": {},
   "outputs": [],
   "source": [
    "stop_words = set(stopwords.words('english'))\n",
    "word_tokens = word_tokenize(example_sent)"
   ]
  },
  {
   "cell_type": "code",
   "execution_count": 6,
   "id": "0fd34bdb",
   "metadata": {},
   "outputs": [],
   "source": [
    "#no_sw = [w for w in word_tokens if not w in stop_words]\n",
    "filtered_sentence = []"
   ]
  },
  {
   "cell_type": "code",
   "execution_count": 28,
   "id": "f19d47e0",
   "metadata": {},
   "outputs": [],
   "source": [
    "no_sw=[]\n",
    "for w in word_tokens :\n",
    "    if w not in stop_words:\n",
    "        no_sw.append(w)\n",
    "        "
   ]
  },
  {
   "cell_type": "code",
   "execution_count": 29,
   "id": "53ec870c",
   "metadata": {},
   "outputs": [],
   "source": [
    "for w in no_sw:\n",
    "    filtered_sentence.append(sno.stem(w))"
   ]
  },
  {
   "cell_type": "code",
   "execution_count": 32,
   "id": "b46ea271",
   "metadata": {},
   "outputs": [
    {
     "name": "stdout",
     "output_type": "stream",
     "text": [
      "['This', 'sample', 'sentence', ',', 'showing', 'stop', 'words', 'filtration', '.']\n",
      "['this', 'sampl', 'sentenc', ',', 'show', 'stop', 'word', 'filtrat', '.']\n"
     ]
    }
   ],
   "source": [
    "print(no_sw)\n",
    "print(filtered_sentence)"
   ]
  },
  {
   "cell_type": "code",
   "execution_count": 31,
   "id": "42096a5e",
   "metadata": {},
   "outputs": [],
   "source": [
    "#for w in word_tokens:\n",
    "#   print(sno.stem(w))\n",
    "#  if w not in stop_words:\n",
    "#        filtered_sentence.append(w)\n",
    "#print(word_tokens)\n",
    "#print(filtered_sentence)\n"
   ]
  },
  {
   "cell_type": "code",
   "execution_count": null,
   "id": "7ad4a827",
   "metadata": {},
   "outputs": [],
   "source": []
  }
 ],
 "metadata": {
  "kernelspec": {
   "display_name": "Python 3",
   "language": "python",
   "name": "python3"
  },
  "language_info": {
   "codemirror_mode": {
    "name": "ipython",
    "version": 3
   },
   "file_extension": ".py",
   "mimetype": "text/x-python",
   "name": "python",
   "nbconvert_exporter": "python",
   "pygments_lexer": "ipython3",
   "version": "3.8.8"
  }
 },
 "nbformat": 4,
 "nbformat_minor": 5
}
